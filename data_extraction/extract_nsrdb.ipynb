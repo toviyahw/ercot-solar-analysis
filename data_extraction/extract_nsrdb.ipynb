{
 "cells": [
  {
   "cell_type": "markdown",
   "id": "48ab7a1c",
   "metadata": {},
   "source": [
    "Extracts solar resource data from the NREL NSRDB (National Solar Radiation Database) API.\n",
    "\n",
    "The data range from 2022-01-01 to 2023-12-31\n",
    "\n",
    "1. Queries the API and saves download URLs\n",
    "2. Downloads data from stored URLs and saves them as `.csv` files in `raw_nsrdb_data/`.\n",
    "3. Aggregates the data across years by city (`nsrdb_by_city.csv`). \n",
    "4. Aggregates the data across years by region (`nsrdb_by_region.csv`).\n",
    "\n",
    "All final `.csv` files are stored in the `clean_data` directory. "
   ]
  },
  {
   "cell_type": "markdown",
   "id": "a83951a2",
   "metadata": {},
   "source": [
    "## 1. Extracting Data"
   ]
  },
  {
   "cell_type": "code",
   "execution_count": null,
   "id": "aa924bf6",
   "metadata": {},
   "outputs": [],
   "source": [
    "import nsrdb_scripts as scr"
   ]
  },
  {
   "cell_type": "code",
   "execution_count": 2,
   "id": "aa454bfc",
   "metadata": {},
   "outputs": [
    {
     "name": "stdout",
     "output_type": "stream",
     "text": [
      "--- YEAR 2024 ---\n",
      "Requesting south: McAllen (2024)...\n",
      "McAllen failed — status code: 400\n",
      "{\"inputs\":{\"body\":{\"api_key\":\"4bbTmdFPASM50dWaG4I3Y0hIcISKC4kVMJ0dymNt\",\"attributes\":\"ghi,dni,dhi,solar_zenith_angle,relative_humidity\",\"names\":\"2024\",\"interval\":\"60\",\"email\":\"kmundey@utexas.edu\",\"wkt\":\"POINT(-98 26)\"},\"params\":{},\"query\":{}},\"metadata\":{\"version\":\"2.0.0\"},\"status\":400,\"errors\":[\"Th\n",
      "\n",
      "Requesting south: Austin (2024)...\n",
      "Austin failed — status code: 400\n",
      "{\"inputs\":{\"body\":{\"api_key\":\"4bbTmdFPASM50dWaG4I3Y0hIcISKC4kVMJ0dymNt\",\"attributes\":\"ghi,dni,dhi,solar_zenith_angle,relative_humidity\",\"names\":\"2024\",\"interval\":\"60\",\"email\":\"kmundey@utexas.edu\",\"wkt\":\"POINT(-98 30)\"},\"params\":{},\"query\":{}},\"metadata\":{\"version\":\"2.0.0\"},\"status\":400,\"errors\":[\"Th\n",
      "\n"
     ]
    },
    {
     "ename": "KeyboardInterrupt",
     "evalue": "",
     "output_type": "error",
     "traceback": [
      "\u001b[1;31m---------------------------------------------------------------------------\u001b[0m",
      "\u001b[1;31mKeyboardInterrupt\u001b[0m                         Traceback (most recent call last)",
      "Cell \u001b[1;32mIn[2], line 2\u001b[0m\n\u001b[0;32m      1\u001b[0m \u001b[38;5;66;03m# Step 1: Query the NSRDB API\u001b[39;00m\n\u001b[1;32m----> 2\u001b[0m \u001b[43mscr\u001b[49m\u001b[38;5;241;43m.\u001b[39;49m\u001b[43mquery_api\u001b[49m\u001b[43m(\u001b[49m\u001b[43m)\u001b[49m\n",
      "File \u001b[1;32mc:\\Users\\kater\\OneDrive - The University of Texas at Austin\\personal_projects\\texas-renewables-analysis\\extract_nsrdb\\scripts.py:113\u001b[0m, in \u001b[0;36mquery_api\u001b[1;34m()\u001b[0m\n\u001b[0;32m    110\u001b[0m         \u001b[38;5;28;01mexcept\u001b[39;00m \u001b[38;5;167;01mException\u001b[39;00m \u001b[38;5;28;01mas\u001b[39;00m e:\n\u001b[0;32m    111\u001b[0m             \u001b[38;5;28mprint\u001b[39m(\u001b[38;5;124mf\u001b[39m\u001b[38;5;124m\"\u001b[39m\u001b[38;5;124mException for \u001b[39m\u001b[38;5;132;01m{\u001b[39;00mcity\u001b[38;5;132;01m}\u001b[39;00m\u001b[38;5;124m: \u001b[39m\u001b[38;5;132;01m{\u001b[39;00me\u001b[38;5;132;01m}\u001b[39;00m\u001b[38;5;130;01m\\n\u001b[39;00m\u001b[38;5;124m\"\u001b[39m)\n\u001b[1;32m--> 113\u001b[0m         \u001b[43mtime\u001b[49m\u001b[38;5;241;43m.\u001b[39;49m\u001b[43msleep\u001b[49m\u001b[43m(\u001b[49m\u001b[38;5;241;43m2\u001b[39;49m\u001b[43m)\u001b[49m  \u001b[38;5;66;03m# rate limit\u001b[39;00m\n\u001b[0;32m    115\u001b[0m     \u001b[38;5;28mprint\u001b[39m()\n\u001b[0;32m    116\u001b[0m \u001b[38;5;28mprint\u001b[39m()\n",
      "\u001b[1;31mKeyboardInterrupt\u001b[0m: "
     ]
    }
   ],
   "source": [
    "# Step 1: Query the NSRDB API\n",
    "scr.query_api()"
   ]
  },
  {
   "cell_type": "code",
   "execution_count": 3,
   "id": "8cac1d57",
   "metadata": {},
   "outputs": [
    {
     "name": "stdout",
     "output_type": "stream",
     "text": [
      "--- YEAR 2021 ---\n",
      "Downloading nsrdb_2021_south_McAllen.csv\n",
      "\n",
      "Downloading nsrdb_2021_south_Austin.csv\n",
      "\n",
      "Downloading nsrdb_2021_south_SanAntonio.csv\n",
      "\n",
      "Downloading nsrdb_2021_south_Laredo.csv\n",
      "\n",
      "Downloading nsrdb_2021_south_CorpusChristi.csv\n",
      "\n",
      "\n",
      "Downloading nsrdb_2021_north_Waco.csv\n",
      "\n",
      "Downloading nsrdb_2021_north_Dallas.csv\n",
      "\n",
      "Downloading nsrdb_2021_north_Tyler.csv\n",
      "\n",
      "\n",
      "Downloading nsrdb_2021_west_Amarillo.csv\n",
      "\n",
      "Downloading nsrdb_2021_west_Lubbock.csv\n",
      "\n",
      "Downloading nsrdb_2021_west_Midland.csv\n",
      "\n",
      "Downloading nsrdb_2021_west_SanAngelo.csv\n",
      "\n",
      "Downloading nsrdb_2021_west_WichitaFalls.csv\n",
      "\n",
      "Downloading nsrdb_2021_west_Alpine.csv\n",
      "\n",
      "\n",
      "Downloading nsrdb_2021_east_Houston.csv\n",
      "\n",
      "\n",
      "\n",
      "--- YEAR 2022 ---\n",
      "Downloading nsrdb_2022_south_McAllen.csv\n",
      "\n",
      "Downloading nsrdb_2022_south_Austin.csv\n",
      "\n",
      "Downloading nsrdb_2022_south_SanAntonio.csv\n",
      "\n",
      "Downloading nsrdb_2022_south_Laredo.csv\n",
      "\n",
      "Downloading nsrdb_2022_south_CorpusChristi.csv\n",
      "\n",
      "\n",
      "Downloading nsrdb_2022_north_Waco.csv\n",
      "\n",
      "Downloading nsrdb_2022_north_Dallas.csv\n",
      "\n",
      "Downloading nsrdb_2022_north_Tyler.csv\n",
      "\n",
      "\n",
      "Downloading nsrdb_2022_west_Amarillo.csv\n",
      "\n",
      "Downloading nsrdb_2022_west_Lubbock.csv\n",
      "\n",
      "Downloading nsrdb_2022_west_Midland.csv\n",
      "\n",
      "Downloading nsrdb_2022_west_SanAngelo.csv\n",
      "\n",
      "Downloading nsrdb_2022_west_WichitaFalls.csv\n",
      "\n",
      "Downloading nsrdb_2022_west_Alpine.csv\n",
      "\n",
      "\n",
      "Downloading nsrdb_2022_east_Houston.csv\n",
      "\n",
      "\n",
      "\n",
      "--- YEAR 2023 ---\n",
      "Downloading nsrdb_2023_south_McAllen.csv\n",
      "\n",
      "Downloading nsrdb_2023_south_Austin.csv\n",
      "\n",
      "Downloading nsrdb_2023_south_SanAntonio.csv\n",
      "\n",
      "Downloading nsrdb_2023_south_Laredo.csv\n",
      "\n",
      "Downloading nsrdb_2023_south_CorpusChristi.csv\n",
      "\n",
      "\n",
      "Downloading nsrdb_2023_north_Waco.csv\n",
      "\n",
      "Downloading nsrdb_2023_north_Dallas.csv\n",
      "\n",
      "Downloading nsrdb_2023_north_Tyler.csv\n",
      "\n",
      "\n",
      "Downloading nsrdb_2023_west_Amarillo.csv\n",
      "\n",
      "Downloading nsrdb_2023_west_Lubbock.csv\n",
      "\n",
      "Downloading nsrdb_2023_west_Midland.csv\n",
      "\n",
      "Downloading nsrdb_2023_west_SanAngelo.csv\n",
      "\n",
      "Downloading nsrdb_2023_west_WichitaFalls.csv\n",
      "\n",
      "Downloading nsrdb_2023_west_Alpine.csv\n",
      "\n",
      "\n",
      "Downloading nsrdb_2023_east_Houston.csv\n",
      "\n",
      "\n",
      "\n",
      "Finished processing URLs.\n",
      "\n",
      "Finished downloading NSRDB data into the folder `raw_nsrdb_data`.\n"
     ]
    }
   ],
   "source": [
    "# Step 2: Download .csv files from download URLs\n",
    "scr.process_urls()\n",
    "print('Finished downloading NSRDB data into the folder `raw_nsrdb_data`.')"
   ]
  },
  {
   "cell_type": "markdown",
   "id": "9e58c7e0",
   "metadata": {},
   "source": [
    "## 2. Aggregate the Data into single files"
   ]
  },
  {
   "cell_type": "markdown",
   "id": "93bcb876",
   "metadata": {},
   "source": [
    "#### 2a. Aggregate the data by city\n",
    "\n",
    "Combines all city-level NSRDB Excel files from multiple years into a single DataFrame,adds region and city metadata, generates a timeseries column (YYYY-MM-DD-HH), and saves the result to a CSV file in the 'clean_data' directory."
   ]
  },
  {
   "cell_type": "code",
   "execution_count": null,
   "id": "153e34a6",
   "metadata": {},
   "outputs": [],
   "source": [
    "import os\n",
    "import pandas as pd"
   ]
  },
  {
   "cell_type": "code",
   "execution_count": 2,
   "id": "4c6f95a4",
   "metadata": {},
   "outputs": [],
   "source": [
    "# Process each year of data, creating one dataframe containing every city\n",
    "df_2021 = scr.aggregate_one_year_by_city('2021')\n",
    "df_2022 = scr.aggregate_one_year_by_city('2022')\n",
    "df_2023 = scr.aggregate_one_year_by_city('2023')\n",
    "\n",
    "# Combine all years into one timeseries dataframe\n",
    "city_df = pd.concat([df_2021, df_2022, df_2023])"
   ]
  },
  {
   "cell_type": "code",
   "execution_count": null,
   "id": "d7ca19b9",
   "metadata": {},
   "outputs": [],
   "source": [
    "# Create clean_data folder\n",
    "clean_data_path = os.path.join('..', 'clean_data')\n",
    "os.makedirs(clean_data_path, exist_ok=True)\n",
    "\n",
    "# Save to CSV\n",
    "output_path = os.path.join(clean_data_path, 'nsrdb_solar_conditions_data_by_city.csv')\n",
    "city_df.to_csv(output_path)"
   ]
  },
  {
   "cell_type": "markdown",
   "id": "15a1f7c3",
   "metadata": {},
   "source": [
    "#### 2b. Aggregate data by region"
   ]
  },
  {
   "cell_type": "code",
   "execution_count": null,
   "id": "978bf906",
   "metadata": {},
   "outputs": [],
   "source": [
    "# Create one dataframe containing region-level data\n",
    "regions_df = scr.aggregate_by_region(city_df)\n",
    "\n",
    "# Save to CSV\n",
    "regions_df.to_csv(os.path.join(clean_data_path, 'nsrdb_solar_conditions_data_by_region.csv'))"
   ]
  }
 ],
 "metadata": {
  "kernelspec": {
   "display_name": "nrel_env",
   "language": "python",
   "name": "python3"
  },
  "language_info": {
   "codemirror_mode": {
    "name": "ipython",
    "version": 3
   },
   "file_extension": ".py",
   "mimetype": "text/x-python",
   "name": "python",
   "nbconvert_exporter": "python",
   "pygments_lexer": "ipython3",
   "version": "3.10.16"
  }
 },
 "nbformat": 4,
 "nbformat_minor": 5
}
