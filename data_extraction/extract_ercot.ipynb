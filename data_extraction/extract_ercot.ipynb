{
 "cells": [
  {
   "cell_type": "code",
   "execution_count": 1,
   "id": "7e8c9db8",
   "metadata": {},
   "outputs": [],
   "source": [
    "import ercot_scripts as scr\n",
    "import pandas as pd\n",
    "import os"
   ]
  },
  {
   "cell_type": "markdown",
   "id": "3d63baa8",
   "metadata": {},
   "source": [
    "#### Extract ERCOT Wind Generation Data\n",
    "\n",
    "The ERCOT Historical Hourly Wind Generation data ranges from 2021-01-01 to 2023-12-31. "
   ]
  },
  {
   "cell_type": "code",
   "execution_count": 2,
   "id": "5aa9a6dd",
   "metadata": {},
   "outputs": [
    {
     "name": "stdout",
     "output_type": "stream",
     "text": [
      "Complied ERCOT Wind Generation data into a DataFrame\n",
      "Sucessfully saved as a CSV!\n"
     ]
    }
   ],
   "source": [
    "wind_df = scr.extract_wind()\n",
    "\n",
    "# Save to CSV\n",
    "clean_data_path = os.path.join('..', 'clean_data')\n",
    "output_path = os.path.join(clean_data_path, 'ercot_historical_wind_generation_data.csv')\n",
    "wind_df.to_csv(output_path)\n",
    "\n",
    "print('Sucessfully saved as a CSV!')"
   ]
  },
  {
   "cell_type": "markdown",
   "id": "62c72dae",
   "metadata": {},
   "source": [
    "#### Extract ERCOT Solar Generation Data\n",
    "\n",
    "The Historical Hourly Solar Generation data ranges from 2022-06-29 to 2023-12-31. "
   ]
  },
  {
   "cell_type": "code",
   "execution_count": null,
   "id": "5a02db60",
   "metadata": {},
   "outputs": [
    {
     "name": "stdout",
     "output_type": "stream",
     "text": [
      "Complied ERCOT Solar Generation data into a DataFrame\n",
      "Sucessfully saved as a CSV!\n"
     ]
    }
   ],
   "source": [
    "solar_df = scr.extract_solar()\n",
    "\n",
    "# Save to CSV\n",
    "clean_data_path = os.path.join('..', 'clean_data')\n",
    "output_path = os.path.join(clean_data_path, 'ercot_historical_solar_generation_data.csv')\n",
    "solar_df.to_csv(output_path)\n",
    "\n",
    "print('Sucessfully saved as a CSV!')"
   ]
  },
  {
   "cell_type": "markdown",
   "id": "41c00d10",
   "metadata": {},
   "source": [
    "#### Extract ERCOT Hourly Load Data"
   ]
  },
  {
   "cell_type": "code",
   "execution_count": null,
   "id": "a726956d",
   "metadata": {},
   "outputs": [],
   "source": [
    "filepaths = ['yearly_grid_load_csvs/2021_ercot_hourly_load_data.csv',\n",
    "             'yearly_grid_load_csvs/2022_ercot_hourly_load_data.csv',\n",
    "             'yearly_grid_load_csvs/2023_ercot_hourly_load_data.csv']\n",
    "\n",
    "load_data = scr.extract_load(filepaths)\n",
    "\n",
    "# Save to CSV\n",
    "output_path = os.path.join(clean_data_path, 'ercot_grid_load_data.csv')\n",
    "load_data.to_csv(output_path)\n",
    "\n",
    "print('Sucessfully saved as a CSV!')"
   ]
  }
 ],
 "metadata": {
  "kernelspec": {
   "display_name": "nrel_env",
   "language": "python",
   "name": "python3"
  },
  "language_info": {
   "codemirror_mode": {
    "name": "ipython",
    "version": 3
   },
   "file_extension": ".py",
   "mimetype": "text/x-python",
   "name": "python",
   "nbconvert_exporter": "python",
   "pygments_lexer": "ipython3",
   "version": "3.10.16"
  }
 },
 "nbformat": 4,
 "nbformat_minor": 5
}
